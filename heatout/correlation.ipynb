{
 "cells": [
  {
   "cell_type": "code",
   "execution_count": 1,
   "id": "13abe431-fd57-4633-bcf0-c78c486efd95",
   "metadata": {
    "ExecuteTime": {
     "end_time": "2025-10-17T18:05:30.432729Z",
     "start_time": "2025-10-17T18:05:30.423845Z"
    }
   },
   "outputs": [],
   "source": [
    "import numpy as np\n",
    "import pandas as pd\n",
    "from scipy.stats import shapiro, kstest, kendalltau\n",
    "import seaborn as sns\n",
    "import matplotlib.pyplot as plt"
   ]
  },
  {
   "cell_type": "code",
   "execution_count": 2,
   "id": "f11de237-3b1c-49c9-98a4-604251efd9bc",
   "metadata": {
    "ExecuteTime": {
     "end_time": "2025-10-17T18:05:30.808109Z",
     "start_time": "2025-10-17T18:05:30.530702Z"
    }
   },
   "outputs": [],
   "source": [
    "path = \"../dataset/data.csv\"\n",
    "df = pd.read_csv(path, parse_dates=['Date'])"
   ]
  },
  {
   "cell_type": "code",
   "execution_count": 3,
   "id": "fdfad034-728e-4ade-8fc5-66d0eb55f037",
   "metadata": {},
   "outputs": [],
   "source": [
    "climate = df[['Date', 'T', 'LMLT', 'EFVT', 'PE', 'SP', 'SR', 'UW', 'VW', 'RH', 'ST',\n",
    "       'ET0', 'SPEI', 'EHF', 'TSM', 'CHL', 'CDOM']]\n",
    "sentinel = df [['Date','B1', 'B2', 'B3', 'B4', 'B5', 'B6', 'B7', 'B8',\n",
    "       'GNDVI', 'NDTI', 'BR', 'SPEI', 'EHF', 'TSM', 'CHL', 'CDOM']]"
   ]
  },
  {
   "cell_type": "code",
   "execution_count": 4,
   "id": "6633cb24-099e-4e33-acb8-32b59dabff0d",
   "metadata": {
    "ExecuteTime": {
     "end_time": "2025-10-17T18:05:41.390668Z",
     "start_time": "2025-10-17T18:05:41.378266Z"
    }
   },
   "outputs": [],
   "source": [
    "def correlation(data, name):\n",
    "    if name == \"dataset\":\n",
    "        fontsize = 13\n",
    "    else:\n",
    "        fontsize = 16\n",
    "        \n",
    "    data = data.drop([\"Date\"], axis=1)\n",
    "    fig, ax = plt.subplots(figsize=(25, 18), dpi=300)\n",
    "    corr = data.corr(method=\"pearson\")\n",
    "    mask = np.triu(np.ones_like(corr, dtype=bool))\n",
    "    np.fill_diagonal(mask, False)\n",
    "    \n",
    "    heatmap = sns.heatmap(\n",
    "            corr, \n",
    "            mask=mask, \n",
    "            vmin=-1, \n",
    "            vmax=1, \n",
    "            annot=True, \n",
    "            fmt=\".2f\", \n",
    "            cmap='coolwarm', \n",
    "            annot_kws={\"size\": fontsize, \"weight\": \"bold\"},\n",
    "            cbar_kws={\"shrink\": .6, \"ticks\": np.linspace(-1, 1, 5)},\n",
    "            ax=ax\n",
    "        )\n",
    "\n",
    "    ax.tick_params(axis='x', labelsize=fontsize, pad=10)\n",
    "    ax.tick_params(axis='y', labelsize=fontsize, rotation=0, pad=10)\n",
    "        \n",
    "    colorbar = heatmap.collections[0].colorbar\n",
    "    colorbar.set_label('r', fontsize=22, rotation=0)\n",
    "    colorbar.ax.tick_params(labelsize=fontsize)\n",
    "\n",
    "    plt.savefig(f'../plots/correlation_{name}.png', \n",
    "                dpi=300, \n",
    "                bbox_inches='tight',\n",
    "                facecolor='white')\n",
    "    plt.close()"
   ]
  },
  {
   "cell_type": "code",
   "execution_count": 5,
   "id": "0ed556d6-1781-4751-bcd6-e86edc40db48",
   "metadata": {
    "ExecuteTime": {
     "end_time": "2025-10-17T18:05:44.229262Z",
     "start_time": "2025-10-17T18:05:41.876976Z"
    }
   },
   "outputs": [],
   "source": [
    "correlation(df, \"dataset\")\n",
    "correlation(climate, \"climate\")\n",
    "correlation(sentinel, \"sentinel\")"
   ]
  },
  {
   "cell_type": "code",
   "execution_count": 6,
   "id": "e05a8206-a51a-4099-9d2f-954351bc42ae",
   "metadata": {
    "ExecuteTime": {
     "end_time": "2025-10-17T18:05:44.403529Z",
     "start_time": "2025-10-17T18:05:44.366623Z"
    }
   },
   "outputs": [],
   "source": [
    "def seasonal_correlation(data, name):\n",
    "    if name == \"dataset\":\n",
    "        fontsize = 13\n",
    "    else:\n",
    "        fontsize = 16\n",
    "    seasons = {\n",
    "        'spring': [3, 4, 5],\n",
    "        'summer': [6, 7, 8],\n",
    "        'autumn': [9, 10, 11],\n",
    "        'winter': [12, 1, 2]\n",
    "    }\n",
    "    \n",
    "    for season, months in seasons.items():\n",
    "        fig, ax = plt.subplots(figsize=(25, 18), dpi=300)\n",
    "        \n",
    "        season_data = data[data['Date'].dt.month.isin(months)].drop([\"Date\"], axis=1)\n",
    "        corr = season_data.corr(method=\"pearson\")\n",
    "        \n",
    "        mask = np.triu(np.ones_like(corr, dtype=bool))\n",
    "        np.fill_diagonal(mask, False)\n",
    "        \n",
    "        heatmap = sns.heatmap(\n",
    "            corr, \n",
    "            mask=mask, \n",
    "            vmin=-1, \n",
    "            vmax=1, \n",
    "            annot=True, \n",
    "            fmt=\".2f\", \n",
    "            cmap='coolwarm', \n",
    "            annot_kws={\"size\": fontsize, \"weight\": \"bold\"},\n",
    "            cbar_kws={\"shrink\": .6, \"ticks\": np.linspace(-1, 1, 5)},\n",
    "            ax=ax\n",
    "        )\n",
    "        \n",
    "        ax.tick_params(axis='x', labelsize=fontsize, pad=10)\n",
    "        ax.tick_params(axis='y', labelsize=fontsize, rotation=0, pad=10)\n",
    "        \n",
    "        colorbar = heatmap.collections[0].colorbar\n",
    "        colorbar.set_label('r', fontsize=22, rotation=0)\n",
    "        colorbar.ax.tick_params(labelsize=fontsize)\n",
    "\n",
    "        plt.savefig(f'../plots/correlation_{name}_{season}.png', \n",
    "                   dpi=300, \n",
    "                   bbox_inches='tight',\n",
    "                   facecolor='white')\n",
    "        plt.close()"
   ]
  },
  {
   "cell_type": "code",
   "execution_count": 7,
   "id": "5022a2eb-1e97-4d02-be75-87841d05ee1a",
   "metadata": {
    "ExecuteTime": {
     "end_time": "2025-10-17T18:06:08.052659Z",
     "start_time": "2025-10-17T18:05:44.513648Z"
    }
   },
   "outputs": [],
   "source": [
    "seasonal_correlation(df, \"dataset\")\n",
    "seasonal_correlation(climate, \"climate\")\n",
    "seasonal_correlation(sentinel, \"sentinel\")"
   ]
  },
  {
   "cell_type": "code",
   "execution_count": null,
   "id": "330cd90b-f516-4854-a886-6ce717fdc796",
   "metadata": {},
   "outputs": [],
   "source": []
  }
 ],
 "metadata": {
  "kernelspec": {
   "display_name": "Python 3 (ipykernel)",
   "language": "python",
   "name": "python3"
  },
  "language_info": {
   "codemirror_mode": {
    "name": "ipython",
    "version": 3
   },
   "file_extension": ".py",
   "mimetype": "text/x-python",
   "name": "python",
   "nbconvert_exporter": "python",
   "pygments_lexer": "ipython3",
   "version": "3.12.9"
  }
 },
 "nbformat": 4,
 "nbformat_minor": 5
}
